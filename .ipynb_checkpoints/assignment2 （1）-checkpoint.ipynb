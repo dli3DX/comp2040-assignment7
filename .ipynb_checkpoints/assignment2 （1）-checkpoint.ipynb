{
 "cells": [
  {
   "cell_type": "code",
   "execution_count": null,
   "id": "5eb72aae-dc66-49ef-b953-5aedcb42ecc0",
   "metadata": {
    "tags": []
   },
   "outputs": [
    {
     "name": "stdout",
     "output_type": "stream",
     "text": [
      "The minute (51) is odd.\n",
      "The minute (52) is even.\n",
      "The minute (53) is odd.\n",
      "The minute (54) is even.\n"
     ]
    }
   ],
   "source": [
    "import time\n",
    "\n",
    "for _ in range(5):\n",
    "    current_time = time.localtime()\n",
    "    minute = current_time.tm_min\n",
    "    if minute % 2 == 0:\n",
    "        print(f\"The minute ({minute}) is even.\")\n",
    "    else:\n",
    "        print(f\"The minute ({minute}) is odd.\")\n",
    "    time.sleep(60)\n"
   ]
  },
  {
   "cell_type": "code",
   "execution_count": null,
   "id": "2379937a-b00b-4bfa-9443-0599fc51c1e2",
   "metadata": {},
   "outputs": [],
   "source": []
  }
 ],
 "metadata": {
  "kernelspec": {
   "display_name": "Python 3 (ipykernel)",
   "language": "python",
   "name": "python3"
  },
  "language_info": {
   "codemirror_mode": {
    "name": "ipython",
    "version": 3
   },
   "file_extension": ".py",
   "mimetype": "text/x-python",
   "name": "python",
   "nbconvert_exporter": "python",
   "pygments_lexer": "ipython3",
   "version": "3.11.4"
  }
 },
 "nbformat": 4,
 "nbformat_minor": 5
}
