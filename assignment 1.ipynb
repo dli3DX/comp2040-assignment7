{
 "cells": [
  {
   "cell_type": "code",
   "execution_count": 1,
   "id": "99c4fc41-aec4-4d2f-9300-35a5a7390925",
   "metadata": {},
   "outputs": [
    {
     "name": "stdout",
     "output_type": "stream",
     "text": [
      "5\n",
      "0\n",
      "-10\n",
      "4\n",
      "9\n",
      "-5\n",
      "13\n",
      "26\n",
      "-17\n",
      "18\n",
      "The sum is: 43\n",
      "The average is: 4.3\n",
      "The largest number is: 26\n"
     ]
    }
   ],
   "source": [
    "# Step 1\n",
    "numbers = [5, 0, -10, 4, 9, -5, 13, 26, -17, 18]\n",
    "for number in numbers:\n",
    "    print(number)\n",
    "\n",
    "# Step 2\n",
    "total = 0\n",
    "for number in numbers:\n",
    "    total += number\n",
    "print(\"The sum is:\", total)\n",
    "\n",
    "# Step 3\n",
    "average = total / len(numbers)\n",
    "print(\"The average is:\", average)\n",
    "\n",
    "# Step 4\n",
    "largest_number = numbers[0]\n",
    "for number in numbers:\n",
    "    if number > largest_number:\n",
    "        largest_number = number\n",
    "print(\"The largest number is:\", largest_number)\n",
    "\n"
   ]
  },
  {
   "cell_type": "code",
   "execution_count": null,
   "id": "13d76350-1283-466b-a816-fadf6105cc19",
   "metadata": {},
   "outputs": [],
   "source": []
  }
 ],
 "metadata": {
  "kernelspec": {
   "display_name": "Python 3 (ipykernel)",
   "language": "python",
   "name": "python3"
  },
  "language_info": {
   "codemirror_mode": {
    "name": "ipython",
    "version": 3
   },
   "file_extension": ".py",
   "mimetype": "text/x-python",
   "name": "python",
   "nbconvert_exporter": "python",
   "pygments_lexer": "ipython3",
   "version": "3.11.7"
  }
 },
 "nbformat": 4,
 "nbformat_minor": 5
}
