{
 "cells": [
  {
   "cell_type": "code",
   "execution_count": 1,
   "id": "9117d3ae-7a76-4b4e-9f2a-9eb4499fb1f4",
   "metadata": {
    "tags": []
   },
   "outputs": [
    {
     "name": "stdout",
     "output_type": "stream",
     "text": [
      "The variance is  478.7131040218854\n",
      "The standard deviation is  21.87951334060896\n"
     ]
    }
   ],
   "source": [
    "import math\n",
    "\n",
    "numbers = [73.79693173, 41.76429734, 53.66368384, 24.60911367, 73.60414637, 62.26858213, 13.9670495, 70.97809816, 17.9978692, 56.10505197]\n",
    "mean = sum(numbers) / len(numbers)\n",
    "variance = sum((number - mean) ** 2 for number in numbers) / len(numbers)\n",
    "std_dev = math.sqrt(variance)\n",
    "\n",
    "print(\"The variance is \", variance)\n",
    "print(\"The standard deviation is \", std_dev)"
   ]
  },
  {
   "cell_type": "code",
   "execution_count": null,
   "id": "78aac4e7-2fce-4dfb-bae5-f1e88ac68072",
   "metadata": {},
   "outputs": [],
   "source": []
  }
 ],
 "metadata": {
  "kernelspec": {
   "display_name": "Python 3 (ipykernel)",
   "language": "python",
   "name": "python3"
  },
  "language_info": {
   "codemirror_mode": {
    "name": "ipython",
    "version": 3
   },
   "file_extension": ".py",
   "mimetype": "text/x-python",
   "name": "python",
   "nbconvert_exporter": "python",
   "pygments_lexer": "ipython3",
   "version": "3.11.5"
  }
 },
 "nbformat": 4,
 "nbformat_minor": 5
}
